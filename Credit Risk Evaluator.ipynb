{
 "cells": [
  {
   "cell_type": "code",
   "execution_count": 56,
   "metadata": {},
   "outputs": [],
   "source": [
    "import warnings\n",
    "warnings.filterwarnings('ignore')"
   ]
  },
  {
   "cell_type": "code",
   "execution_count": 57,
   "metadata": {},
   "outputs": [],
   "source": [
    "import numpy as np\n",
    "import pandas as pd\n",
    "from pathlib import Path\n",
    "from collections import Counter\n",
    " "
   ]
  },
  {
   "cell_type": "code",
   "execution_count": 58,
   "metadata": {},
   "outputs": [],
   "source": [
    "from sklearn.metrics import balanced_accuracy_score\n",
    "from sklearn.metrics import confusion_matrix"
   ]
  },
  {
   "cell_type": "code",
   "execution_count": 59,
   "metadata": {},
   "outputs": [],
   "source": [
    "pd = ('Resources/2019loans.csv')\n",
    "pd = ('Resources/2020Q1loans.csv')"
   ]
  },
  {
   "cell_type": "markdown",
   "metadata": {},
   "source": [
    "Read the CSV and Perform Basic Data Cleaning"
   ]
  },
  {
   "cell_type": "code",
   "execution_count": 60,
   "metadata": {},
   "outputs": [],
   "source": [
    "# Convert categorical data to numeric and separate target feature for training data\n",
    "columns = [\n",
    "    \"loan_amnt\", \"int_rate\", \"installment\", #\"home_ownership\",\n",
    "    #\"annual_inc\", \"verification_status\", \"issue_d\", \n",
    "    \"loan_status\",\n",
    "    #\"pymnt_plan\", \n",
    "    \"dti\", \"delinq_2yrs\", \"inq_last_6mths\",\n",
    "    \"open_acc\", \"pub_rec\", \"revol_bal\", \"total_acc\",\n",
    "    #\"initial_list_status\", \n",
    "    \"out_prncp\", #\"out_prncp_inv\",\n",
    "    \"total_pymnt\", #\"total_pymnt_inv\", \n",
    "    \"total_rec_prncp\", #\"total_rec_int\", \"total_rec_late_fee\",\n",
    "    \"recoveries\", \"collection_recovery_fee\", \"last_pymnt_amnt\", #\"next_pymnt_d\",\n",
    "    \"collections_12_mths_ex_med\", #\"policy_code\", \"application_type\", \"acc_now_delinq\",\n",
    "    \"tot_coll_amt\", \"tot_cur_bal\", \"open_acc_6m\", \"open_act_il\",\n",
    "    \"open_il_12m\", \"open_il_24m\", \"mths_since_rcnt_il\", \"total_bal_il\",\n",
    "    \"il_util\", \"open_rv_12m\", \"open_rv_24m\", \"max_bal_bc\",\n",
    "    \"all_util\", \"total_rev_hi_lim\", \"inq_fi\", \"total_cu_tl\",\n",
    "    \"inq_last_12m\", \"acc_open_past_24mths\", \"avg_cur_bal\", \"bc_open_to_buy\",\n",
    "    \"bc_util\", \"chargeoff_within_12_mths\", \"delinq_amnt\", \"mo_sin_old_il_acct\",\n",
    "    \"mo_sin_old_rev_tl_op\", \"mo_sin_rcnt_rev_tl_op\", \"mo_sin_rcnt_tl\", \"mort_acc\",\n",
    "    \"mths_since_recent_bc\", \"mths_since_recent_inq\", \"num_accts_ever_120_pd\", \"num_actv_bc_tl\",\n",
    "    \"num_actv_rev_tl\", \"num_bc_sats\", \"num_bc_tl\", \"num_il_tl\",\n",
    "    \"num_op_rev_tl\", \"num_rev_accts\", \"num_rev_tl_bal_gt_0\",\n",
    "    \"num_sats\", \"num_tl_120dpd_2m\", \"num_tl_30dpd\", \"num_tl_90g_dpd_24m\",\n",
    "    \"num_tl_op_past_12m\", \"pct_tl_nvr_dlq\", \"percent_bc_gt_75\", \"pub_rec_bankruptcies\",\n",
    "    \"tax_liens\", \"tot_hi_cred_lim\", \"total_bal_ex_mort\", \"total_bc_limit\",\n",
    "    \"total_il_high_credit_limit\"#, \"hardship_flag\", \"debt_settlement_flag\"\n",
    "]\n",
    "\n",
    "target = [\"loan_status\"]\n"
   ]
  },
  {
   "cell_type": "code",
   "execution_count": 63,
   "metadata": {},
   "outputs": [
    {
     "ename": "AttributeError",
     "evalue": "'str' object has no attribute 'get_dummies'",
     "output_type": "error",
     "traceback": [
      "\u001b[1;31m---------------------------------------------------------------------------\u001b[0m",
      "\u001b[1;31mAttributeError\u001b[0m                            Traceback (most recent call last)",
      "\u001b[1;32m~\\AppData\\Local\\Temp/ipykernel_16528/235013438.py\u001b[0m in \u001b[0;36m<module>\u001b[1;34m\u001b[0m\n\u001b[0;32m      1\u001b[0m \u001b[1;31m# Create our features\u001b[0m\u001b[1;33m\u001b[0m\u001b[1;33m\u001b[0m\u001b[1;33m\u001b[0m\u001b[0m\n\u001b[1;32m----> 2\u001b[1;33m \u001b[0mpd\u001b[0m\u001b[1;33m.\u001b[0m\u001b[0mget_dummies\u001b[0m\u001b[1;33m(\u001b[0m\u001b[1;36m1\u001b[0m\u001b[1;33m)\u001b[0m\u001b[1;33m\u001b[0m\u001b[1;33m\u001b[0m\u001b[0m\n\u001b[0m",
      "\u001b[1;31mAttributeError\u001b[0m: 'str' object has no attribute 'get_dummies'"
     ]
    }
   ],
   "source": [
    "# Create our features\n",
    "pd.get_dummies()\n"
   ]
  },
  {
   "cell_type": "code",
   "execution_count": null,
   "metadata": {},
   "outputs": [],
   "source": [
    "# Convert categorical data to numeric and separate target feature for testing data\n",
    "x = {'Current': 'low_risk'}   "
   ]
  },
  {
   "cell_type": "code",
   "execution_count": null,
   "metadata": {},
   "outputs": [
    {
     "name": "stdout",
     "output_type": "stream",
     "text": [
      "Labels: [0 1 0 1 1 0 1 1 0 0]\n",
      "Data: [[-2.98837186  8.82862715]\n",
      " [ 5.72293008  3.02697174]\n",
      " [-3.05358035  9.12520872]\n",
      " [ 5.461939    3.86996267]\n",
      " [ 4.86733877  3.28031244]\n",
      " [-2.14780202 10.55232269]\n",
      " [ 4.91656964  2.80035293]\n",
      " [ 3.08921541  2.04173266]\n",
      " [-2.90130578  7.55077118]\n",
      " [-3.34841515  8.70507375]]\n"
     ]
    }
   ],
   "source": [
    "# Train the Logistic Regression model on the unscaled data and print the model score\n",
    "from sklearn.datasets import make_blobs\n",
    "\n",
    "X, y = make_blobs(centers=2, random_state=42)\n",
    "\n",
    "print(f\"Labels: {y[:10]}\")\n",
    "print(f\"Data: {X[:10]}\")\n",
    "X, y = make_blobs(centers=3, random_state=42)\n"
   ]
  },
  {
   "cell_type": "code",
   "execution_count": null,
   "metadata": {},
   "outputs": [],
   "source": [
    "# Split the X and y into X_train, X_test, y_train, y_test\n",
    "from sklearn.model_selection import train_test_split\n",
    "X_train, X_test, y_train, y_test = train_test_split(X, y, random_state=1)"
   ]
  },
  {
   "cell_type": "code",
   "execution_count": null,
   "metadata": {},
   "outputs": [
    {
     "data": {
      "text/plain": [
       "[('total_rev_hi_lim',),\n",
       " ('total_rec_prncp',),\n",
       " ('total_pymnt',),\n",
       " ('total_il_high_credit_limit',),\n",
       " ('total_cu_tl',),\n",
       " ('total_bc_limit',),\n",
       " ('total_bal_il',),\n",
       " ('total_bal_ex_mort',),\n",
       " ('total_acc',),\n",
       " ('tot_hi_cred_lim',),\n",
       " ('tot_cur_bal',),\n",
       " ('tot_coll_amt',),\n",
       " ('tax_liens',),\n",
       " ('revol_bal',),\n",
       " ('recoveries',),\n",
       " ('pub_rec_bankruptcies',),\n",
       " ('pub_rec',),\n",
       " ('percent_bc_gt_75',),\n",
       " ('pct_tl_nvr_dlq',),\n",
       " ('out_prncp',),\n",
       " ('open_rv_24m',),\n",
       " ('open_rv_12m',),\n",
       " ('open_il_24m',),\n",
       " ('open_il_12m',),\n",
       " ('open_act_il',),\n",
       " ('open_acc_6m',),\n",
       " ('open_acc',),\n",
       " ('num_tl_op_past_12m',),\n",
       " ('num_tl_90g_dpd_24m',),\n",
       " ('num_tl_30dpd',),\n",
       " ('num_tl_120dpd_2m',),\n",
       " ('num_sats',),\n",
       " ('num_rev_tl_bal_gt_0',),\n",
       " ('num_rev_accts',),\n",
       " ('num_op_rev_tl',),\n",
       " ('num_il_tl',),\n",
       " ('num_bc_tl',),\n",
       " ('num_bc_sats',),\n",
       " ('num_actv_rev_tl',),\n",
       " ('num_actv_bc_tl',),\n",
       " ('num_accts_ever_120_pd',),\n",
       " ('mths_since_recent_inq',),\n",
       " ('mths_since_recent_bc',),\n",
       " ('mths_since_rcnt_il',),\n",
       " ('mort_acc',),\n",
       " ('mo_sin_rcnt_tl',),\n",
       " ('mo_sin_rcnt_rev_tl_op',),\n",
       " ('mo_sin_old_rev_tl_op',),\n",
       " ('mo_sin_old_il_acct',),\n",
       " ('max_bal_bc',),\n",
       " ('loan_status',),\n",
       " ('loan_amnt',),\n",
       " ('last_pymnt_amnt',),\n",
       " ('int_rate',),\n",
       " ('installment',),\n",
       " ('inq_last_6mths',),\n",
       " ('inq_last_12m',),\n",
       " ('inq_fi',),\n",
       " ('il_util',),\n",
       " ('dti',),\n",
       " ('delinq_amnt',),\n",
       " ('delinq_2yrs',),\n",
       " ('collections_12_mths_ex_med',),\n",
       " ('collection_recovery_fee',),\n",
       " ('chargeoff_within_12_mths',),\n",
       " ('bc_util',),\n",
       " ('bc_open_to_buy',),\n",
       " ('avg_cur_bal',),\n",
       " ('all_util',),\n",
       " ('acc_open_past_24mths',)]"
      ]
     },
     "execution_count": 47,
     "metadata": {},
     "output_type": "execute_result"
    }
   ],
   "source": [
    "# Train a Random Forest Classifier model and print the model score\n",
    "importances = list(zip(columns))\n",
    "importances.sort(reverse=True)\n",
    "importances"
   ]
  },
  {
   "cell_type": "code",
   "execution_count": null,
   "metadata": {},
   "outputs": [],
   "source": [
    "# Split the X and y into X_train, X_test, y_train, y_test\n",
    "from sklearn.model_selection import train_test_split\n",
    "X_train, X_test, y_train, y_test = train_test_split(X, y, random_state=1)\n"
   ]
  },
  {
   "cell_type": "code",
   "execution_count": null,
   "metadata": {},
   "outputs": [
    {
     "name": "stdout",
     "output_type": "stream",
     "text": [
      "Original dataset shape Counter({1: 900, 0: 100})\n"
     ]
    },
    {
     "data": {
      "text/plain": [
       "Counter({1: 673, 0: 77})"
      ]
     },
     "execution_count": 40,
     "metadata": {},
     "output_type": "execute_result"
    }
   ],
   "source": [
    "# Resample the training data with the RandomOversampler\n",
    "# Train the Classifier\n",
    "from sklearn.datasets import make_classification \n",
    "X, y = make_classification(n_classes=2, class_sep=2,\n",
    " weights=[0.1, 0.9], n_informative=3, n_redundant=1, flip_y=0,\n",
    " n_features=20, n_clusters_per_class=1, n_samples=1000, random_state=10)\n",
    "print('Original dataset shape %s' % Counter(y))\n",
    "\n",
    "X_train, X_test, y_train, y_test = train_test_split(X, y,\n",
    "                                                     random_state=0)\n",
    "Counter(y_train)"
   ]
  },
  {
   "cell_type": "code",
   "execution_count": null,
   "metadata": {},
   "outputs": [],
   "source": [
    "# Scale your data\n",
    "from sklearn.preprocessing import MinMaxScaler\n",
    "X_scaler = MinMaxScaler().fit(X_train)"
   ]
  },
  {
   "cell_type": "code",
   "execution_count": null,
   "metadata": {},
   "outputs": [],
   "source": [
    "X_train_scaled = X_scaler.transform(X_train)\n",
    "X_test_scaled = X_scaler.transform(X_test)"
   ]
  },
  {
   "cell_type": "code",
   "execution_count": null,
   "metadata": {},
   "outputs": [
    {
     "data": {
      "text/plain": [
       "array([[0.29110716, 0.34241517, 0.14714628, ..., 0.60987837, 0.4739606 ,\n",
       "        0.44296201],\n",
       "       [0.53129035, 0.30372084, 0.27886754, ..., 0.68361601, 0.43743118,\n",
       "        0.52721236],\n",
       "       [0.62144716, 0.43845757, 0.56784752, ..., 0.35053628, 0.58191482,\n",
       "        0.68377627],\n",
       "       ...,\n",
       "       [0.17736528, 0.08972066, 0.64203985, ..., 0.54353747, 0.46885028,\n",
       "        0.45207734],\n",
       "       [0.55661181, 0.45484338, 0.30850563, ..., 0.7503999 , 0.50057201,\n",
       "        0.52096302],\n",
       "       [0.37034861, 0.23932375, 0.84681239, ..., 0.61421988, 0.45503202,\n",
       "        0.61736147]])"
      ]
     },
     "execution_count": 44,
     "metadata": {},
     "output_type": "execute_result"
    }
   ],
   "source": [
    "X_train_scaled"
   ]
  },
  {
   "cell_type": "code",
   "execution_count": null,
   "metadata": {},
   "outputs": [
    {
     "data": {
      "text/plain": [
       "LogisticRegression()"
      ]
     },
     "execution_count": 45,
     "metadata": {},
     "output_type": "execute_result"
    }
   ],
   "source": [
    "from sklearn.linear_model import LogisticRegression\n",
    "model = LogisticRegression()\n",
    "model.fit(X_train, y_train)"
   ]
  },
  {
   "cell_type": "code",
   "execution_count": null,
   "metadata": {},
   "outputs": [
    {
     "name": "stdout",
     "output_type": "stream",
     "text": [
      "Training Data Score: 0.9986666666666667\n",
      "Testing Data Score: 1.0\n"
     ]
    }
   ],
   "source": [
    "print(f\"Training Data Score: {model.score(X_train, y_train)}\")\n",
    "print(f\"Testing Data Score: {model.score(X_test, y_test)}\")"
   ]
  }
 ],
 "metadata": {
  "kernelspec": {
   "display_name": "Python 3 (ipykernel)",
   "language": "python",
   "name": "python3"
  },
  "language_info": {
   "codemirror_mode": {
    "name": "ipython",
    "version": 3
   },
   "file_extension": ".py",
   "mimetype": "text/x-python",
   "name": "python",
   "nbconvert_exporter": "python",
   "pygments_lexer": "ipython3",
   "version": "3.8.12"
  }
 },
 "nbformat": 4,
 "nbformat_minor": 4
}
